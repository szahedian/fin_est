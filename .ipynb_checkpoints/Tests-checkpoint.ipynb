{
 "cells": [
  {
   "cell_type": "markdown",
   "metadata": {},
   "source": [
    "# Let's see ..."
   ]
  },
  {
   "cell_type": "code",
   "execution_count": 8,
   "metadata": {},
   "outputs": [],
   "source": [
    "import quandl as Quandl\n",
    "Quandl.ApiConfig.api_key = \"HUNTmXM2vsCAHPr45CV4\"\n",
    "import numpy as np\n",
    "import pandas as pd\n",
    "import math\n",
    "from sklearn import preprocessing, svm\n",
    "from sklearn.linear_model import LinearRegression\n",
    "import matplotlib.pyplot as plt\n",
    "from matplotlib import style\n",
    "import datetime\n",
    "\n",
    "%matplotlib inline"
   ]
  },
  {
   "cell_type": "code",
   "execution_count": 64,
   "metadata": {},
   "outputs": [],
   "source": [
    "# Gathers industrial stocks\n",
    "frameTest1 = Quandl.get(\"WIKI/GE\")  # General Electric\n",
    "frameTest2 = Quandl.get(\"WIKI/MMM\") # Alcoa\n",
    "frameTest3 = Quandl.get(\"WIKI/BA\")  # Boeing"
   ]
  },
  {
   "cell_type": "code",
   "execution_count": 46,
   "metadata": {},
   "outputs": [],
   "source": [
    "# Gathers tech stocks\n",
    "frameTest4 = Quandl.get(\"WIKI/ORCL\") # Oracle\n",
    "frameTest5 = Quandl.get(\"WIKI/EA\")   # Electronic Arts\n",
    "frameTest6 = Quandl.get(\"WIKI/PYPL\") # Paypal"
   ]
  },
  {
   "cell_type": "code",
   "execution_count": 128,
   "metadata": {},
   "outputs": [],
   "source": [
    "# Stacks adjusted close data in last 'sample_size' days for each stock\n",
    "sample_size = 600\n",
    "closes = np.empty((sample_size, 6))\n",
    "for i in range(6):\n",
    "    closes[:, i] = eval(\"frameTest\" + str(i + 1) + \"['Adj. Close'][-sample_size:]\")"
   ]
  },
  {
   "cell_type": "code",
   "execution_count": 129,
   "metadata": {},
   "outputs": [],
   "source": [
    "# Forms covariance matrix from array of close data\n",
    "covar_mat = np.empty((6, 6))\n",
    "for i in range(closes.shape[1]):\n",
    "    for j in range(closes.shape[1]):\n",
    "        covar_mat[i][j] = np.dot(closes[:,i], closes[:,j]) / (np.linalg.norm(closes[:,i]) * np.linalg.norm(closes[:,j]))"
   ]
  },
  {
   "cell_type": "code",
   "execution_count": 130,
   "metadata": {},
   "outputs": [
    {
     "name": "stdout",
     "output_type": "stream",
     "text": [
      "[[1.         0.95184118 0.86062385 0.96109587 0.93158726 0.89235377]\n",
      " [0.95184118 1.         0.97271455 0.99742972 0.99453805 0.98554044]\n",
      " [0.86062385 0.97271455 1.         0.9652721  0.98088738 0.99497704]\n",
      " [0.96109587 0.99742972 0.9652721  1.         0.99340409 0.98084395]\n",
      " [0.93158726 0.99453805 0.98088738 0.99340409 1.         0.98974243]\n",
      " [0.89235377 0.98554044 0.99497704 0.98084395 0.98974243 1.        ]]\n"
     ]
    }
   ],
   "source": [
    "print(covar_mat)"
   ]
  },
  {
   "cell_type": "code",
   "execution_count": 137,
   "metadata": {},
   "outputs": [],
   "source": [
    "u, s, vT = np.linalg.svd(closes)"
   ]
  },
  {
   "cell_type": "code",
   "execution_count": 138,
   "metadata": {},
   "outputs": [
    {
     "data": {
      "text/plain": [
       "[<matplotlib.lines.Line2D at 0x11b0c7cf8>]"
      ]
     },
     "execution_count": 138,
     "metadata": {},
     "output_type": "execute_result"
    },
    {
     "data": {
      "image/png": "[encoded data removed]",
      "text/plain": [
       "<Figure size 432x288 with 1 Axes>"
      ]
     },
     "metadata": {
      "needs_background": "light"
     },
     "output_type": "display_data"
    }
   ],
   "source": [
    "plt.plot(s)"
   ]
  },
  {
   "cell_type": "code",
   "execution_count": null,
   "metadata": {},
   "outputs": [],
   "source": []
  }
 ],
 "metadata": {
  "kernelspec": {
   "display_name": "Python 3",
   "language": "python",
   "name": "python3"
  },
  "language_info": {
   "codemirror_mode": {
    "name": "ipython",
    "version": 3
   },
   "file_extension": ".py",
   "mimetype": "text/x-python",
   "name": "python",
   "nbconvert_exporter": "python",
   "pygments_lexer": "ipython3",
   "version": "3.7.0"
  }
 },
 "nbformat": 4,
 "nbformat_minor": 2
}
